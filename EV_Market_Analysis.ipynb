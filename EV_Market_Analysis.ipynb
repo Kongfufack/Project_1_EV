{
 "cells": [
  {
   "cell_type": "code",
   "execution_count": 1,
   "metadata": {},
   "outputs": [],
   "source": [
    "import pandas as pd\n",
    "import matplotlib.pyplot as plt\n",
    "import numpy as np\n",
    "import scipy.stats as st\n",
    "from scipy.stats import linregress\n",
    "from scipy.optimize import curve_fit"
   ]
  },
  {
   "cell_type": "code",
   "execution_count": 2,
   "metadata": {},
   "outputs": [
    {
     "data": {
      "text/html": [
       "<div>\n",
       "<style scoped>\n",
       "    .dataframe tbody tr th:only-of-type {\n",
       "        vertical-align: middle;\n",
       "    }\n",
       "\n",
       "    .dataframe tbody tr th {\n",
       "        vertical-align: top;\n",
       "    }\n",
       "\n",
       "    .dataframe thead th {\n",
       "        text-align: right;\n",
       "    }\n",
       "</style>\n",
       "<table border=\"1\" class=\"dataframe\">\n",
       "  <thead>\n",
       "    <tr style=\"text-align: right;\">\n",
       "      <th></th>\n",
       "      <th>Date</th>\n",
       "      <th>Vehicle body type</th>\n",
       "      <th>Motive power</th>\n",
       "      <th>Count</th>\n",
       "    </tr>\n",
       "  </thead>\n",
       "  <tbody>\n",
       "    <tr>\n",
       "      <th>0</th>\n",
       "      <td>2015-07-01</td>\n",
       "      <td>AMBULANCE</td>\n",
       "      <td>Diesel</td>\n",
       "      <td>1</td>\n",
       "    </tr>\n",
       "    <tr>\n",
       "      <th>1</th>\n",
       "      <td>2015-07-01</td>\n",
       "      <td>AMBULANCE</td>\n",
       "      <td>Diesel</td>\n",
       "      <td>33</td>\n",
       "    </tr>\n",
       "    <tr>\n",
       "      <th>2</th>\n",
       "      <td>2015-07-01</td>\n",
       "      <td>ARMOURED VEHICLE</td>\n",
       "      <td>Diesel</td>\n",
       "      <td>1</td>\n",
       "    </tr>\n",
       "    <tr>\n",
       "      <th>3</th>\n",
       "      <td>2015-07-01</td>\n",
       "      <td>ARMOURED VEHICLE</td>\n",
       "      <td>Diesel</td>\n",
       "      <td>4</td>\n",
       "    </tr>\n",
       "    <tr>\n",
       "      <th>4</th>\n",
       "      <td>2015-07-01</td>\n",
       "      <td>ARMOURED VEHICLE</td>\n",
       "      <td>Diesel</td>\n",
       "      <td>8</td>\n",
       "    </tr>\n",
       "  </tbody>\n",
       "</table>\n",
       "</div>"
      ],
      "text/plain": [
       "         Date Vehicle body type Motive power  Count\n",
       "0  2015-07-01         AMBULANCE       Diesel      1\n",
       "1  2015-07-01         AMBULANCE       Diesel     33\n",
       "2  2015-07-01  ARMOURED VEHICLE       Diesel      1\n",
       "3  2015-07-01  ARMOURED VEHICLE       Diesel      4\n",
       "4  2015-07-01  ARMOURED VEHICLE       Diesel      8"
      ]
     },
     "execution_count": 2,
     "metadata": {},
     "output_type": "execute_result"
    }
   ],
   "source": [
    "filepath = \"./Dataset/\"\n",
    "totalvACT_df = pd.read_csv(filepath + \"Total_vehicles_registered_in_the_ACT.csv\")\n",
    "totalvACT_df.head()"
   ]
  },
  {
   "cell_type": "code",
   "execution_count": 3,
   "metadata": {},
   "outputs": [
    {
     "name": "stdout",
     "output_type": "stream",
     "text": [
      "<class 'pandas.core.frame.DataFrame'>\n",
      "Int64Index: 2135 entries, 256 to 34830\n",
      "Data columns (total 3 columns):\n",
      " #   Column        Non-Null Count  Dtype \n",
      "---  ------        --------------  ----- \n",
      " 0   year          2135 non-null   int64 \n",
      " 1   Motive power  2135 non-null   object\n",
      " 2   Count         2135 non-null   int64 \n",
      "dtypes: int64(2), object(1)\n",
      "memory usage: 66.7+ KB\n"
     ]
    },
    {
     "name": "stderr",
     "output_type": "stream",
     "text": [
      "c:\\Users\\zhaoj\\anaconda3\\envs\\PythonData\\lib\\site-packages\\ipykernel_launcher.py:5: SettingWithCopyWarning: \n",
      "A value is trying to be set on a copy of a slice from a DataFrame.\n",
      "Try using .loc[row_indexer,col_indexer] = value instead\n",
      "\n",
      "See the caveats in the documentation: https://pandas.pydata.org/pandas-docs/stable/user_guide/indexing.html#returning-a-view-versus-a-copy\n",
      "  \"\"\"\n"
     ]
    }
   ],
   "source": [
    "totalvACT_clear = totalvACT_df.loc[(totalvACT_df[\"Vehicle body type\"] == \"SEDAN\") &\n",
    "                                    ((totalvACT_df[\"Motive power\"] == \"Diesel\") |\n",
    "                                    (totalvACT_df[\"Motive power\"] == \"Petrol\") |\n",
    "                                    (totalvACT_df[\"Motive power\"] == \"Electric\"))]\n",
    "totalvACT_clear[\"year\"] = pd.DatetimeIndex(totalvACT_clear.loc[:,\"Date\"]).year\n",
    "totalvACT_clear = totalvACT_clear[[\"year\",\"Motive power\",\"Count\"]]\n",
    "totalvACT_clear.info()"
   ]
  },
  {
   "cell_type": "code",
   "execution_count": 6,
   "metadata": {},
   "outputs": [
    {
     "data": {
      "text/html": [
       "<div>\n",
       "<style scoped>\n",
       "    .dataframe tbody tr th:only-of-type {\n",
       "        vertical-align: middle;\n",
       "    }\n",
       "\n",
       "    .dataframe tbody tr th {\n",
       "        vertical-align: top;\n",
       "    }\n",
       "\n",
       "    .dataframe thead th {\n",
       "        text-align: right;\n",
       "    }\n",
       "</style>\n",
       "<table border=\"1\" class=\"dataframe\">\n",
       "  <thead>\n",
       "    <tr style=\"text-align: right;\">\n",
       "      <th></th>\n",
       "      <th>Diesel</th>\n",
       "      <th>Petrol</th>\n",
       "      <th>Electric</th>\n",
       "    </tr>\n",
       "  </thead>\n",
       "  <tbody>\n",
       "    <tr>\n",
       "      <th>2015</th>\n",
       "      <td>37224</td>\n",
       "      <td>922177</td>\n",
       "      <td>475</td>\n",
       "    </tr>\n",
       "    <tr>\n",
       "      <th>2016</th>\n",
       "      <td>76504</td>\n",
       "      <td>1834499</td>\n",
       "      <td>1355</td>\n",
       "    </tr>\n",
       "    <tr>\n",
       "      <th>2017</th>\n",
       "      <td>78942</td>\n",
       "      <td>1829863</td>\n",
       "      <td>1620</td>\n",
       "    </tr>\n",
       "    <tr>\n",
       "      <th>2018</th>\n",
       "      <td>79858</td>\n",
       "      <td>1827701</td>\n",
       "      <td>1802</td>\n",
       "    </tr>\n",
       "    <tr>\n",
       "      <th>2019</th>\n",
       "      <td>79097</td>\n",
       "      <td>1809127</td>\n",
       "      <td>2236</td>\n",
       "    </tr>\n",
       "  </tbody>\n",
       "</table>\n",
       "</div>"
      ],
      "text/plain": [
       "      Diesel   Petrol  Electric\n",
       "2015   37224   922177       475\n",
       "2016   76504  1834499      1355\n",
       "2017   78942  1829863      1620\n",
       "2018   79858  1827701      1802\n",
       "2019   79097  1809127      2236"
      ]
     },
     "execution_count": 6,
     "metadata": {},
     "output_type": "execute_result"
    },
    {
     "data": {
      "image/png": "[encoded data removed]",
      "text/plain": [
       "<Figure size 720x576 with 1 Axes>"
      ]
     },
     "metadata": {
      "needs_background": "light"
     },
     "output_type": "display_data"
    }
   ],
   "source": [
    "totalvACT_clear_grp = totalvACT_clear.groupby([\"year\",\"Motive power\"])\n",
    "totalvACT_clear_df = totalvACT_clear_grp[\"Count\"].sum().reset_index([\"Motive power\"])\n",
    "year = [2015,2016,2017,2018,2019,2020,2021,2022]\n",
    "Diesel_ser = totalvACT_clear_df.loc[totalvACT_clear_df[\"Motive power\"] == \"Diesel\"][\"Count\"]\n",
    "Petrol_ser = totalvACT_clear_df.loc[totalvACT_clear_df[\"Motive power\"] == \"Petrol\"][\"Count\"]\n",
    "Electric_ser = totalvACT_clear_df.loc[totalvACT_clear_df[\"Motive power\"] == \"Electric\"][\"Count\"]\n",
    "barchart_df = pd.DataFrame({\"Diesel\":Diesel_ser,\n",
    "                            \"Petrol\":Petrol_ser,\n",
    "                            \"Electric\":Electric_ser},\n",
    "                            index=year)\n",
    "barchart = barchart_df.plot(kind=\"bar\",figsize=(10,8))\n",
    "barchart.set_xlabel(\"Year\")\n",
    "barchart.set_ylabel(\"Number of vehicle\")\n",
    "barchart_df.head()\n"
   ]
  },
  {
   "cell_type": "code",
   "execution_count": 8,
   "metadata": {},
   "outputs": [],
   "source": [
    "def expfunc(x, a,b,c ):\n",
    "    return a*np.exp(b *x) +c\n",
    "\n",
    "def logfunc(x, a,b,c ):\n",
    "    return a*np.log(b+x)+c"
   ]
  },
  {
   "cell_type": "code",
   "execution_count": 19,
   "metadata": {},
   "outputs": [
    {
     "name": "stderr",
     "output_type": "stream",
     "text": [
      "c:\\Users\\zhaoj\\anaconda3\\envs\\PythonData\\lib\\site-packages\\ipykernel_launcher.py:5: RuntimeWarning: invalid value encountered in log\n",
      "  \"\"\"\n",
      "c:\\Users\\zhaoj\\anaconda3\\envs\\PythonData\\lib\\site-packages\\ipykernel_launcher.py:5: RuntimeWarning: invalid value encountered in log\n",
      "  \"\"\"\n"
     ]
    },
    {
     "data": {
      "image/png": "[encoded data removed]",
      "text/plain": [
       "<Figure size 720x576 with 1 Axes>"
      ]
     },
     "metadata": {
      "needs_background": "light"
     },
     "output_type": "display_data"
    }
   ],
   "source": [
    "x = range(1,9)\n",
    "x_fitted = np.linspace(np.min(x), np.max(x)+6.5, 200)\n",
    "plt.figure(figsize=(10,8))\n",
    "\n",
    "# Petrol\n",
    "y1 = barchart_df[\"Petrol\"]\n",
    "popt1, pcov1 = curve_fit(logfunc, x, y1, maxfev=1000)\n",
    "plt.plot(x, y1, 'go', label=\"Petrol\")\n",
    "y_fitted1 = logfunc(x_fitted, *popt1)\n",
    "plt.plot(x_fitted, y_fitted1, 'g-', label=\"Petrol Fitted Curve\")\n",
    "\n",
    "# Diesel\n",
    "y2 = barchart_df[\"Diesel\"]\n",
    "popt2, pcov2 = curve_fit(logfunc, x, y2, maxfev=1000)\n",
    "plt.plot(x, y2, 'bo', label=\"Diesel\")\n",
    "y_fitted2 = logfunc(x_fitted, *popt2)\n",
    "plt.plot(x_fitted, y_fitted2, 'b-', label=\"Fitted Curve\")\n",
    "\n",
    "# Electric\n",
    "y3 = barchart_df[\"Electric\"]\n",
    "popt, pcov = curve_fit(expfunc, x, y3, maxfev=1000)\n",
    "plt.plot(x, y3, 'ro', label=\"Electric\")\n",
    "y_fitted = expfunc(x_fitted, *popt)\n",
    "plt.plot(x_fitted, y_fitted, 'r-', label=\"Fitted Curve\")\n",
    "\n",
    "plt.grid()\n",
    "plt.xlabel('Year')\n",
    "plt.ylabel('Number of vehicle')\n",
    "\n",
    "tick_locations = [value for value in range(1,16)]\n",
    "plt.xticks(tick_locations,range(2015,2029))\n",
    "plt.show()"
   ]
  },
  {
   "cell_type": "code",
   "execution_count": null,
   "metadata": {},
   "outputs": [],
   "source": []
  }
 ],
 "metadata": {
  "kernelspec": {
   "display_name": "PythonData",
   "language": "python",
   "name": "python3"
  },
  "language_info": {
   "codemirror_mode": {
    "name": "ipython",
    "version": 3
   },
   "file_extension": ".py",
   "mimetype": "text/x-python",
   "name": "python",
   "nbconvert_exporter": "python",
   "pygments_lexer": "ipython3",
   "version": "3.7.7"
  },
  "orig_nbformat": 4,
  "vscode": {
   "interpreter": {
    "hash": "6b805d8fdc47ea921a70e5874889bdc7d90000b5b92d4e88967c25e6b639e516"
   }
  }
 },
 "nbformat": 4,
 "nbformat_minor": 2
}
